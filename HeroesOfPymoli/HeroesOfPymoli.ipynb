{
 "cells": [
  {
   "cell_type": "code",
   "execution_count": 1,
   "id": "9af100c2",
   "metadata": {},
   "outputs": [],
   "source": [
    "# Dependencies and Setup\n",
    "import pandas as pd\n",
    "import numpy as np\n",
    "\n",
    "# Read Purchasing File and store into Pandas data frame\n",
    "# Original dataframe called \"pdata\"\n",
    "pdata = pd.read_csv(\"purchase_data.csv\")"
   ]
  },
  {
   "cell_type": "code",
   "execution_count": 2,
   "id": "72506135",
   "metadata": {},
   "outputs": [
    {
     "data": {
      "text/html": [
       "<style type=\"text/css\">\n",
       "#T_865ab_row0_col0 {\n",
       "  text-align: left;\n",
       "}\n",
       "</style>\n",
       "<table id=\"T_865ab_\">\n",
       "  <thead>\n",
       "    <tr>\n",
       "      <th class=\"blank level0\" >&nbsp;</th>\n",
       "      <th class=\"col_heading level0 col0\" >Total Players</th>\n",
       "    </tr>\n",
       "  </thead>\n",
       "  <tbody>\n",
       "    <tr>\n",
       "      <th id=\"T_865ab_level0_row0\" class=\"row_heading level0 row0\" >0</th>\n",
       "      <td id=\"T_865ab_row0_col0\" class=\"data row0 col0\" >576</td>\n",
       "    </tr>\n",
       "  </tbody>\n",
       "</table>\n"
      ],
      "text/plain": [
       "<pandas.io.formats.style.Styler at 0x21106fc0608>"
      ]
     },
     "execution_count": 2,
     "metadata": {},
     "output_type": "execute_result"
    }
   ],
   "source": [
    "# Player Count\n",
    "# Total Number of Players\n",
    "# Counting by individual SN and displaying length of that list\n",
    "total_players = pdata[[\"SN\"]].value_counts()\n",
    "total_players_len = (len(total_players))\n",
    "\n",
    "# Create new dataframe and display aligned to left\n",
    "total_players_df = pd.DataFrame ({\"Total Players\":[total_players_len]})\n",
    "total_players_df = total_players_df.style.set_properties(**{'text-align': 'left'})\n",
    "total_players_df"
   ]
  },
  {
   "cell_type": "code",
   "execution_count": 3,
   "id": "a6bd3b5f",
   "metadata": {},
   "outputs": [
    {
     "data": {
      "text/html": [
       "<style type=\"text/css\">\n",
       "#T_55440_row0_col0, #T_55440_row0_col1, #T_55440_row0_col2, #T_55440_row0_col3 {\n",
       "  text-align: left;\n",
       "}\n",
       "</style>\n",
       "<table id=\"T_55440_\">\n",
       "  <thead>\n",
       "    <tr>\n",
       "      <th class=\"blank level0\" >&nbsp;</th>\n",
       "      <th class=\"col_heading level0 col0\" >Number of Unique Items</th>\n",
       "      <th class=\"col_heading level0 col1\" >Average Price</th>\n",
       "      <th class=\"col_heading level0 col2\" >Number of Purchases</th>\n",
       "      <th class=\"col_heading level0 col3\" >Total Revenue</th>\n",
       "    </tr>\n",
       "  </thead>\n",
       "  <tbody>\n",
       "    <tr>\n",
       "      <th id=\"T_55440_level0_row0\" class=\"row_heading level0 row0\" >0</th>\n",
       "      <td id=\"T_55440_row0_col0\" class=\"data row0 col0\" >179</td>\n",
       "      <td id=\"T_55440_row0_col1\" class=\"data row0 col1\" >$3.05</td>\n",
       "      <td id=\"T_55440_row0_col2\" class=\"data row0 col2\" >780</td>\n",
       "      <td id=\"T_55440_row0_col3\" class=\"data row0 col3\" >$2379.77</td>\n",
       "    </tr>\n",
       "  </tbody>\n",
       "</table>\n"
      ],
      "text/plain": [
       "<pandas.io.formats.style.Styler at 0x21107e59908>"
      ]
     },
     "execution_count": 3,
     "metadata": {},
     "output_type": "execute_result"
    }
   ],
   "source": [
    "# Purchasing Analysis Total\n",
    "\n",
    "# Item ID\n",
    "no_unique_items = len(pdata[\"Item ID\"].value_counts())\n",
    "\n",
    "# Average Purchase Price, fomatted\n",
    "sum_of_price = pdata[\"Price\"].sum()\n",
    "no_of_sales = pdata[\"Price\"].count()\n",
    "ave_purchase_price = sum_of_price / no_of_sales\n",
    "ave_purchase_price = '$' + str(ave_purchase_price.round(decimals=2))\n",
    "\n",
    "# Total Number of Purchases\n",
    "no_purchase_ids = pdata[\"Purchase ID\"].count()\n",
    "\n",
    "# Total Revenue -defined above as sum_of_price, formatted\n",
    "sum_of_price = '$' + str(sum_of_price.round(decimals=2))\n",
    "\n",
    "# Create new dataframe and display aligned to left\n",
    "purchasing_analysis_total_df = pd.DataFrame (\n",
    "    {\"Number of Unique Items\":[no_unique_items],\n",
    "     \"Average Price\":[ave_purchase_price], \n",
    "     \"Number of Purchases\":[no_purchase_ids], \n",
    "    \"Total Revenue\":[sum_of_price]\n",
    "    })\n",
    "purchasing_analysis_total_df = purchasing_analysis_total_df.style.set_properties(**{'text-align': 'left'})\n",
    "purchasing_analysis_total_df"
   ]
  },
  {
   "cell_type": "code",
   "execution_count": 4,
   "id": "39dc7a61",
   "metadata": {},
   "outputs": [
    {
     "data": {
      "text/html": [
       "<style type=\"text/css\">\n",
       "#T_e295e_row0_col0, #T_e295e_row0_col1, #T_e295e_row1_col0, #T_e295e_row1_col1, #T_e295e_row2_col0, #T_e295e_row2_col1 {\n",
       "  text-align: left;\n",
       "}\n",
       "</style>\n",
       "<table id=\"T_e295e_\">\n",
       "  <thead>\n",
       "    <tr>\n",
       "      <th class=\"blank level0\" >&nbsp;</th>\n",
       "      <th class=\"col_heading level0 col0\" >Total Count</th>\n",
       "      <th class=\"col_heading level0 col1\" >Percentage of Players</th>\n",
       "    </tr>\n",
       "  </thead>\n",
       "  <tbody>\n",
       "    <tr>\n",
       "      <th id=\"T_e295e_level0_row0\" class=\"row_heading level0 row0\" >Male</th>\n",
       "      <td id=\"T_e295e_row0_col0\" class=\"data row0 col0\" >484</td>\n",
       "      <td id=\"T_e295e_row0_col1\" class=\"data row0 col1\" >84.03%</td>\n",
       "    </tr>\n",
       "    <tr>\n",
       "      <th id=\"T_e295e_level0_row1\" class=\"row_heading level0 row1\" >Female</th>\n",
       "      <td id=\"T_e295e_row1_col0\" class=\"data row1 col0\" >81</td>\n",
       "      <td id=\"T_e295e_row1_col1\" class=\"data row1 col1\" >14.06%</td>\n",
       "    </tr>\n",
       "    <tr>\n",
       "      <th id=\"T_e295e_level0_row2\" class=\"row_heading level0 row2\" >Other / Non-Disclosed</th>\n",
       "      <td id=\"T_e295e_row2_col0\" class=\"data row2 col0\" >11</td>\n",
       "      <td id=\"T_e295e_row2_col1\" class=\"data row2 col1\" >1.91%</td>\n",
       "    </tr>\n",
       "  </tbody>\n",
       "</table>\n"
      ],
      "text/plain": [
       "<pandas.io.formats.style.Styler at 0x21107fc8148>"
      ]
     },
     "execution_count": 4,
     "metadata": {},
     "output_type": "execute_result"
    }
   ],
   "source": [
    "# Gender Demographics\n",
    "\n",
    "# Locate a gender type in the Gender column and return SN, sorted by number of unique instances, and count\n",
    "no_males = len(pdata.loc[pdata['Gender'] == 'Male', ['SN']].value_counts())\n",
    "no_females = len(pdata.loc[pdata['Gender'] == 'Female', ['SN']].value_counts())\n",
    "no_other_nd = len(pdata.loc[pdata['Gender'] == 'Other / Non-Disclosed', ['SN']].value_counts())\n",
    "\n",
    "# Calculate % for each and round decminal places, convert to str then add '%'\n",
    "# Total Count of all players -defined above as total_players_len\n",
    "per_males = no_males / total_players_len * 100\n",
    "per_males = round(per_males, 2)\n",
    "per_males = str(per_males) + '%'\n",
    "\n",
    "per_females = no_females / total_players_len * 100\n",
    "per_females = round(per_females, 2)\n",
    "per_females = str(per_females) + '%'\n",
    "\n",
    "per_other_nd = no_other_nd / total_players_len * 100\n",
    "per_other_nd = round(per_other_nd, 2)\n",
    "per_other_nd = str(per_other_nd) + '%'\n",
    "\n",
    "# Create new dataframe, change row indexes, display aligned to left\n",
    "gender_demo = pd.DataFrame (\n",
    "    {\"Total Count\":[no_males, no_females, no_other_nd],\n",
    "     \"Percentage of Players\":[per_males, per_females, per_other_nd]\n",
    "    })\n",
    "gender_demo.index = ['Male', 'Female', 'Other / Non-Disclosed']\n",
    "gender_demo = gender_demo.style.set_properties(**{'text-align': 'left'})\n",
    "gender_demo"
   ]
  },
  {
   "cell_type": "code",
   "execution_count": 5,
   "id": "c535ce29",
   "metadata": {},
   "outputs": [
    {
     "data": {
      "text/html": [
       "<style type=\"text/css\">\n",
       "#T_b97ea_row0_col0, #T_b97ea_row0_col1, #T_b97ea_row0_col2, #T_b97ea_row0_col3, #T_b97ea_row1_col0, #T_b97ea_row1_col1, #T_b97ea_row1_col2, #T_b97ea_row1_col3, #T_b97ea_row2_col0, #T_b97ea_row2_col1, #T_b97ea_row2_col2, #T_b97ea_row2_col3 {\n",
       "  text-align: left;\n",
       "}\n",
       "</style>\n",
       "<table id=\"T_b97ea_\">\n",
       "  <thead>\n",
       "    <tr>\n",
       "      <th class=\"blank level0\" >&nbsp;</th>\n",
       "      <th class=\"col_heading level0 col0\" >Purchase Count</th>\n",
       "      <th class=\"col_heading level0 col1\" >Average Purchase Price</th>\n",
       "      <th class=\"col_heading level0 col2\" >Total Purchase Value</th>\n",
       "      <th class=\"col_heading level0 col3\" >Avg Total Purchase per Person</th>\n",
       "    </tr>\n",
       "    <tr>\n",
       "      <th class=\"index_name level0\" >Gender</th>\n",
       "      <th class=\"blank col0\" >&nbsp;</th>\n",
       "      <th class=\"blank col1\" >&nbsp;</th>\n",
       "      <th class=\"blank col2\" >&nbsp;</th>\n",
       "      <th class=\"blank col3\" >&nbsp;</th>\n",
       "    </tr>\n",
       "  </thead>\n",
       "  <tbody>\n",
       "    <tr>\n",
       "      <th id=\"T_b97ea_level0_row0\" class=\"row_heading level0 row0\" >Female</th>\n",
       "      <td id=\"T_b97ea_row0_col0\" class=\"data row0 col0\" >113</td>\n",
       "      <td id=\"T_b97ea_row0_col1\" class=\"data row0 col1\" >$3.2</td>\n",
       "      <td id=\"T_b97ea_row0_col2\" class=\"data row0 col2\" >$361.94</td>\n",
       "      <td id=\"T_b97ea_row0_col3\" class=\"data row0 col3\" >$4.47</td>\n",
       "    </tr>\n",
       "    <tr>\n",
       "      <th id=\"T_b97ea_level0_row1\" class=\"row_heading level0 row1\" >Male</th>\n",
       "      <td id=\"T_b97ea_row1_col0\" class=\"data row1 col0\" >652</td>\n",
       "      <td id=\"T_b97ea_row1_col1\" class=\"data row1 col1\" >$3.02</td>\n",
       "      <td id=\"T_b97ea_row1_col2\" class=\"data row1 col2\" >$1967.64</td>\n",
       "      <td id=\"T_b97ea_row1_col3\" class=\"data row1 col3\" >$4.07</td>\n",
       "    </tr>\n",
       "    <tr>\n",
       "      <th id=\"T_b97ea_level0_row2\" class=\"row_heading level0 row2\" >Other / Non-Disclosed</th>\n",
       "      <td id=\"T_b97ea_row2_col0\" class=\"data row2 col0\" >15</td>\n",
       "      <td id=\"T_b97ea_row2_col1\" class=\"data row2 col1\" >$3.35</td>\n",
       "      <td id=\"T_b97ea_row2_col2\" class=\"data row2 col2\" >$50.19</td>\n",
       "      <td id=\"T_b97ea_row2_col3\" class=\"data row2 col3\" >$4.56</td>\n",
       "    </tr>\n",
       "  </tbody>\n",
       "</table>\n"
      ],
      "text/plain": [
       "<pandas.io.formats.style.Styler at 0x2110800b2c8>"
      ]
     },
     "execution_count": 5,
     "metadata": {},
     "output_type": "execute_result"
    }
   ],
   "source": [
    "# Purchasing Analysis (Gender)\n",
    "\n",
    "# Count number of purchases by gender\n",
    "female_purchase_count = len(pdata.loc[pdata['Gender'] == 'Female', ['SN']])\n",
    "male_purchase_count = len(pdata.loc[pdata['Gender'] == 'Male', ['SN']])\n",
    "other_nd_purchase_count = len(pdata.loc[pdata['Gender'] == 'Other / Non-Disclosed', ['SN']])\n",
    "\n",
    "# Average purchase price by gender\n",
    "ave_purch_female = pdata.loc[pdata['Gender'] == 'Female', ['Price']].mean()\n",
    "ave_purch_male = pdata.loc[pdata['Gender'] == 'Male', ['Price']].mean()\n",
    "ave_purch_other_nd = pdata.loc[pdata['Gender'] == 'Other / Non-Disclosed', ['Price']].mean()\n",
    "\n",
    "# Total purchase value by gender\n",
    "sum_purch_female = pdata.loc[pdata['Gender'] == 'Female', ['Price']].sum()\n",
    "sum_purch_male = pdata.loc[pdata['Gender'] == 'Male', ['Price']].sum()\n",
    "sum_purch_other_nd = pdata.loc[pdata['Gender'] == 'Other / Non-Disclosed', ['Price']].sum()\n",
    "\n",
    "# The no of each gender with a unique SN\n",
    "uni_sn_female = pdata.loc[pdata['Gender'] == 'Female', [\"SN\"]].value_counts()\n",
    "uni_sn_female = len(uni_sn_female)\n",
    "uni_sn_male = pdata.loc[pdata['Gender'] == 'Male', [\"SN\"]].value_counts()\n",
    "uni_sn_male = len(uni_sn_male)\n",
    "uni_sn_other_nd = pdata.loc[pdata['Gender'] == 'Other / Non-Disclosed', [\"SN\"]].value_counts()\n",
    "uni_sn_other_nd = len(uni_sn_other_nd)\n",
    "\n",
    "# Average total purchase per person (atppp) is sum of each gender's purchases / no. of unique members of that gender\n",
    "atppp_female = sum_purch_female / uni_sn_female\n",
    "atppp_male = sum_purch_male / uni_sn_male\n",
    "atppp_other_nd = sum_purch_other_nd / uni_sn_other_nd\n",
    "\n",
    "# Formatting for dataframe\n",
    "# average purchase\n",
    "ave_purch_female = float(round(ave_purch_female, 2))\n",
    "ave_purch_female = '$' + str(ave_purch_female)\n",
    "ave_purch_male = float(round(ave_purch_male, 2))\n",
    "ave_purch_male = '$' + str(ave_purch_male)\n",
    "ave_purch_other_nd = float(round(ave_purch_other_nd, 2))\n",
    "ave_purch_other_nd = '$' + str(ave_purch_other_nd)\n",
    "# sum purchase\n",
    "sum_purch_female = float(round(sum_purch_female, 2))\n",
    "sum_purch_female = '$' + str(sum_purch_female)\n",
    "sum_purch_male = float(round(sum_purch_male, 2))\n",
    "sum_purch_male = '$' + str(sum_purch_male)\n",
    "sum_purch_other_nd = float(round(sum_purch_other_nd, 2))\n",
    "sum_purch_other_nd = '$' + str(sum_purch_other_nd)\n",
    "# atppp\n",
    "atppp_female = float(round(atppp_female, 2))\n",
    "atppp_female = '$' + str(atppp_female)\n",
    "atppp_male = float(round(atppp_male, 2))\n",
    "atppp_male = '$' + str(atppp_male)\n",
    "atppp_other_nd = float(round(atppp_other_nd, 2))\n",
    "atppp_other_nd = '$' + str(atppp_other_nd)\n",
    "\n",
    "# Create new dataframe, change row indexes, display aligned to left\n",
    "gendemo_purch = pd.DataFrame (\n",
    "    {\"Purchase Count\":[female_purchase_count, male_purchase_count, other_nd_purchase_count],\n",
    "     \"Average Purchase Price\":[ave_purch_female, ave_purch_male, ave_purch_other_nd],   \n",
    "     \"Total Purchase Value\":[sum_purch_female, sum_purch_male, sum_purch_other_nd], \n",
    "     \"Avg Total Purchase per Person\":[atppp_female, atppp_male, atppp_other_nd], \n",
    "    })\n",
    "\n",
    "#Formatting Index and alignment\n",
    "\n",
    "gendemo_purch.index = ['Female', 'Male', 'Other / Non-Disclosed']\n",
    "gendemo_purch.index.name = \"Gender\"\n",
    "gendemo_purch = gendemo_purch.style.set_properties(**{'text-align': 'left'})\n",
    "\n",
    "gendemo_purch\n"
   ]
  },
  {
   "cell_type": "code",
   "execution_count": 6,
   "id": "bdd42692",
   "metadata": {},
   "outputs": [
    {
     "data": {
      "text/html": [
       "<div>\n",
       "<style scoped>\n",
       "    .dataframe tbody tr th:only-of-type {\n",
       "        vertical-align: middle;\n",
       "    }\n",
       "\n",
       "    .dataframe tbody tr th {\n",
       "        vertical-align: top;\n",
       "    }\n",
       "\n",
       "    .dataframe thead th {\n",
       "        text-align: right;\n",
       "    }\n",
       "</style>\n",
       "<table border=\"1\" class=\"dataframe\">\n",
       "  <thead>\n",
       "    <tr style=\"text-align: right;\">\n",
       "      <th></th>\n",
       "      <th>Item Name</th>\n",
       "      <th>SN</th>\n",
       "      <th>Age</th>\n",
       "    </tr>\n",
       "  </thead>\n",
       "  <tbody>\n",
       "    <tr>\n",
       "      <th>4</th>\n",
       "      <td>Fury</td>\n",
       "      <td>Iskosia90</td>\n",
       "      <td>23</td>\n",
       "    </tr>\n",
       "    <tr>\n",
       "      <th>6</th>\n",
       "      <td>Interrogator, Blood Blade of the Queen</td>\n",
       "      <td>Itheria73</td>\n",
       "      <td>36</td>\n",
       "    </tr>\n",
       "    <tr>\n",
       "      <th>7</th>\n",
       "      <td>Abyssal Shard</td>\n",
       "      <td>Iskjaskst81</td>\n",
       "      <td>20</td>\n",
       "    </tr>\n",
       "  </tbody>\n",
       "</table>\n",
       "</div>"
      ],
      "text/plain": [
       "                                Item Name           SN  Age\n",
       "4                                    Fury    Iskosia90   23\n",
       "6  Interrogator, Blood Blade of the Queen    Itheria73   36\n",
       "7                           Abyssal Shard  Iskjaskst81   20"
      ]
     },
     "execution_count": 6,
     "metadata": {},
     "output_type": "execute_result"
    }
   ],
   "source": [
    "# Age Demographics\n",
    "#whats a bin den\n",
    "#get groupin"
   ]
  },
  {
   "cell_type": "code",
   "execution_count": 7,
   "id": "593e60d0",
   "metadata": {},
   "outputs": [
    {
     "name": "stdout",
     "output_type": "stream",
     "text": [
      "Price    1967.64\n",
      "dtype: float64\n"
     ]
    }
   ],
   "source": [
    "sum_purch_male = pdata.loc[pdata['Gender'] == 'Male', ['Price']].sum()\n",
    "print(sum_purch_male)"
   ]
  },
  {
   "cell_type": "code",
   "execution_count": null,
   "id": "2da5939b",
   "metadata": {},
   "outputs": [],
   "source": [
    "pdata.iloc[[4,6,7], [5,1,2]]"
   ]
  }
 ],
 "metadata": {
  "kernelspec": {
   "display_name": "Python [conda env:.conda-bootcamp] *",
   "language": "python",
   "name": "conda-env-.conda-bootcamp-py"
  },
  "language_info": {
   "codemirror_mode": {
    "name": "ipython",
    "version": 3
   },
   "file_extension": ".py",
   "mimetype": "text/x-python",
   "name": "python",
   "nbconvert_exporter": "python",
   "pygments_lexer": "ipython3",
   "version": "3.7.13"
  }
 },
 "nbformat": 4,
 "nbformat_minor": 5
}
